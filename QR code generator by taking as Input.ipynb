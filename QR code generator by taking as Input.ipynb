{
 "cells": [
  {
   "cell_type": "code",
   "execution_count": 1,
   "id": "04893826",
   "metadata": {},
   "outputs": [
    {
     "name": "stdout",
     "output_type": "stream",
     "text": [
      "Enter the data to be encoded as a QR code: youtube.com\n"
     ]
    }
   ],
   "source": [
    "import qrcode\n",
    "def generate_qr_code(data):\n",
    "    # Create a QR code object\n",
    "    qr = qrcode.QRCode(\n",
    "        version=1,\n",
    "        error_correction=qrcode.constants.ERROR_CORRECT_L,\n",
    "        box_size=10,\n",
    "        border=4,\n",
    "    )\n",
    "    # Add the data to the QR code object\n",
    "    qr.add_data(data)\n",
    "    # Make the QR code image\n",
    "    img = qr.make_image(fill_color=\"black\", back_color=\"white\")\n",
    "    # Save the QR code image to a file\n",
    "    img.save(\"image.png\")\n",
    "# Get the data to be encoded as a QR code from the user\n",
    "data = input(\"Enter the data to be encoded as a QR code: \")\n",
    "# Generate the QR code\n",
    "generate_qr_code(data)"
   ]
  },
  {
   "cell_type": "code",
   "execution_count": null,
   "id": "d4ad6752",
   "metadata": {},
   "outputs": [],
   "source": []
  }
 ],
 "metadata": {
  "kernelspec": {
   "display_name": "Python 3 (ipykernel)",
   "language": "python",
   "name": "python3"
  },
  "language_info": {
   "codemirror_mode": {
    "name": "ipython",
    "version": 3
   },
   "file_extension": ".py",
   "mimetype": "text/x-python",
   "name": "python",
   "nbconvert_exporter": "python",
   "pygments_lexer": "ipython3",
   "version": "3.12.0"
  }
 },
 "nbformat": 4,
 "nbformat_minor": 5
}
