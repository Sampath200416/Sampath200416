{
 "cells": [
  {
   "cell_type": "code",
   "execution_count": 13,
   "id": "cc894e91",
   "metadata": {},
   "outputs": [
    {
     "name": "stdout",
     "output_type": "stream",
     "text": [
      "Enter the text you want to convert to speech: hello\n"
     ]
    },
    {
     "data": {
      "text/plain": [
       "0"
      ]
     },
     "execution_count": 13,
     "metadata": {},
     "output_type": "execute_result"
    }
   ],
   "source": [
    "from gtts import gTTS\n",
    "import os\n",
    "from playsound import playsound\n",
    "text = input(\"Enter the text you want to convert to speech: \")\n",
    "tts = gtts.gTTS(text)\n",
    "tts.save(\"output.mp3\")\n",
    "language =\"en\"\n",
    "# Passing to gtts engine\n",
    "voice = gTTS(text=text, lang=language, slow=False)\n",
    "\n",
    "# Creating and saving the audio file\n",
    "voice.save(\"txt.mp3\")\n",
    "\n",
    "# Playing the file\n",
    "os.system(\"start txt.mp3\")"
   ]
  },
  {
   "cell_type": "code",
   "execution_count": null,
   "id": "c02a2f0d",
   "metadata": {},
   "outputs": [],
   "source": []
  }
 ],
 "metadata": {
  "kernelspec": {
   "display_name": "Python 3 (ipykernel)",
   "language": "python",
   "name": "python3"
  },
  "language_info": {
   "codemirror_mode": {
    "name": "ipython",
    "version": 3
   },
   "file_extension": ".py",
   "mimetype": "text/x-python",
   "name": "python",
   "nbconvert_exporter": "python",
   "pygments_lexer": "ipython3",
   "version": "3.12.0"
  }
 },
 "nbformat": 4,
 "nbformat_minor": 5
}
