{
 "cells": [
  {
   "cell_type": "code",
   "execution_count": 1,
   "id": "e35c87b4",
   "metadata": {},
   "outputs": [],
   "source": [
    "import numpy as np\n",
    "import matplotlib.pyplot as plt\n",
    "import matplotlib.image as mpimg\n",
    "import os\n",
    "import cv2\n",
    "from scipy import ndimage\n",
    "from scipy import misc"
   ]
  },
  {
   "cell_type": "code",
   "execution_count": 18,
   "id": "35e5bbb7",
   "metadata": {},
   "outputs": [
    {
     "data": {
      "text/plain": [
       "True"
      ]
     },
     "execution_count": 18,
     "metadata": {},
     "output_type": "execute_result"
    }
   ],
   "source": [
    "#Noise reduction of image \n",
    "# Load an image\n",
    "img = cv2.imread('CTU1.png')\n",
    "\n",
    "# Apply Gaussian blur\n",
    "blur = cv2.GaussianBlur(img, (5, 5), 0)\n",
    "\n",
    "# Save the result\n",
    "cv2.imwrite('CTU1_blur.png', blur)\n"
   ]
  },
  {
   "cell_type": "code",
   "execution_count": 19,
   "id": "205495da",
   "metadata": {},
   "outputs": [
    {
     "data": {
      "text/plain": [
       "True"
      ]
     },
     "execution_count": 19,
     "metadata": {},
     "output_type": "execute_result"
    }
   ],
   "source": [
    "#Gradient calculation\n",
    "# Load an image\n",
    "img = cv2.imread('CTU1.png', cv2.IMREAD_GRAYSCALE)\n",
    "\n",
    "# Calculate the x and y gradients using Sobel operator\n",
    "grad_x = cv2.Sobel(img, cv2.CV_64F, 1, 0, ksize=5)\n",
    "grad_y = cv2.Sobel(img, cv2.CV_64F, 0, 1, ksize=5)\n",
    "\n",
    "# Compute the magnitude and direction (in degrees)\n",
    "mag, angle = cv2.cartToPolar(grad_x, grad_y, angleInDegrees=True)\n",
    "\n",
    "# Display the magnitude image\n",
    "cv2.imshow('Gradient magnitude', mag)\n",
    "cv2.waitKey(0)  # Wait for a key press to close the image window\n",
    "\n",
    "# Save the magnitude image to a file\n",
    "cv2.imwrite('CTU1_gradient_magnitude.png', mag)"
   ]
  },
  {
   "cell_type": "code",
   "execution_count": 20,
   "id": "995f1b5b",
   "metadata": {},
   "outputs": [
    {
     "data": {
      "text/plain": [
       "True"
      ]
     },
     "execution_count": 20,
     "metadata": {},
     "output_type": "execute_result"
    }
   ],
   "source": [
    "#non-maximum supression\n",
    "# Load the image\n",
    "image = cv2.imread('CTU2.jpg', 0)\n",
    "\n",
    "# Apply Canny edge detection\n",
    "edges = cv2.Canny(image,100,200)\n",
    "\n",
    "# Non-maximum suppression\n",
    "gx = cv2.Sobel(edges, cv2.CV_64F, 1, 0, ksize=5)\n",
    "gy = cv2.Sobel(edges, cv2.CV_64F, 0, 1, ksize=5)\n",
    "mag, ang = cv2.cartToPolar(gx, gy, angleInDegrees=True)\n",
    "_, suppressed = cv2.threshold(mag, 100, 255, cv2.THRESH_BINARY)\n",
    "\n",
    "# Save the suppressed image\n",
    "cv2.imwrite('CTU2_non_maximum_supression.jpg', suppressed)\n"
   ]
  },
  {
   "cell_type": "code",
   "execution_count": 21,
   "id": "1da82f78",
   "metadata": {},
   "outputs": [
    {
     "data": {
      "text/plain": [
       "True"
      ]
     },
     "execution_count": 21,
     "metadata": {},
     "output_type": "execute_result"
    }
   ],
   "source": [
    "#Double treshhold\n",
    "# Load an image\n",
    "img = cv2.imread('CTU3.jpg', cv2.IMREAD_GRAYSCALE)\n",
    "\n",
    "# Apply Gaussian blur\n",
    "blur = cv2.GaussianBlur(img, (5, 5), 0)\n",
    "\n",
    "# Apply Canny edge detection\n",
    "edges = cv2.Canny(blur, 100, 200)\n",
    "\n",
    "# Define thresholds\n",
    "low_threshold = 70\n",
    "high_threshold = 200\n",
    "\n",
    "# Apply double thresholding\n",
    "strong_edges = (edges > high_threshold)\n",
    "weak_edges = ((edges > low_threshold) & (edges <= high_threshold))\n",
    "\n",
    "# Get final image\n",
    "final_img = np.zeros_like(edges)\n",
    "final_img[strong_edges] = 255\n",
    "final_img[weak_edges] = 128\n",
    "\n",
    "# Save the result\n",
    "cv2.imwrite('CTU3_double_threshold.png', final_img)\n"
   ]
  },
  {
   "cell_type": "code",
   "execution_count": 2,
   "id": "e7ba6748",
   "metadata": {},
   "outputs": [
    {
     "data": {
      "text/plain": [
       "True"
      ]
     },
     "execution_count": 2,
     "metadata": {},
     "output_type": "execute_result"
    }
   ],
   "source": [
    "#Edge Tracking by Hysteresis\n",
    "# Load an image\n",
    "img = cv2.imread('CTU4.jpg', cv2.IMREAD_GRAYSCALE)\n",
    "\n",
    "# Apply Gaussian blur\n",
    "blur = cv2.GaussianBlur(img, (5, 5), 0)\n",
    "\n",
    "# Apply Canny edge detection which includes edge tracking by hysteresis\n",
    "edges = cv2.Canny(blur, 100, 200)\n",
    "\n",
    "# Save the result\n",
    "cv2.imwrite('CTU4_edges.png', edges)\n"
   ]
  },
  {
   "cell_type": "code",
   "execution_count": null,
   "id": "d190f9c5",
   "metadata": {},
   "outputs": [],
   "source": []
  }
 ],
 "metadata": {
  "kernelspec": {
   "display_name": "Python 3 (ipykernel)",
   "language": "python",
   "name": "python3"
  },
  "language_info": {
   "codemirror_mode": {
    "name": "ipython",
    "version": 3
   },
   "file_extension": ".py",
   "mimetype": "text/x-python",
   "name": "python",
   "nbconvert_exporter": "python",
   "pygments_lexer": "ipython3",
   "version": "3.11.3"
  }
 },
 "nbformat": 4,
 "nbformat_minor": 5
}
